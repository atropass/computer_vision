{
  "nbformat": 4,
  "nbformat_minor": 0,
  "metadata": {
    "colab": {
      "provenance": [],
      "gpuType": "T4",
      "authorship_tag": "ABX9TyMX2IsvWzfcU1rshQdOBwA+",
      "include_colab_link": true
    },
    "kernelspec": {
      "name": "python3",
      "display_name": "Python 3"
    },
    "language_info": {
      "name": "python"
    },
    "accelerator": "GPU"
  },
  "cells": [
    {
      "cell_type": "markdown",
      "metadata": {
        "id": "view-in-github",
        "colab_type": "text"
      },
      "source": [
        "<a href=\"https://colab.research.google.com/github/atropass/computer_vision/blob/main/Image_classification.ipynb\" target=\"_parent\"><img src=\"https://colab.research.google.com/assets/colab-badge.svg\" alt=\"Open In Colab\"/></a>"
      ]
    },
    {
      "cell_type": "code",
      "source": [
        "from google.colab import drive\n",
        "drive.mount('/content/drive')"
      ],
      "metadata": {
        "colab": {
          "base_uri": "https://localhost:8080/"
        },
        "id": "veI-g6vcD4zt",
        "outputId": "b45c6629-8a38-4bad-f98b-a5d38c281141"
      },
      "execution_count": 1,
      "outputs": [
        {
          "output_type": "stream",
          "name": "stdout",
          "text": [
            "Mounted at /content/drive\n"
          ]
        }
      ]
    },
    {
      "cell_type": "code",
      "source": [
        "!pip install numpy matplotlib scikit-image scikit-learn"
      ],
      "metadata": {
        "id": "eiBWlL1CEOtD"
      },
      "execution_count": null,
      "outputs": []
    },
    {
      "cell_type": "code",
      "source": [
        "import os\n",
        "import numpy as np\n",
        "from skimage.feature import hog\n",
        "from skimage.io import imread\n",
        "from skimage.transform import resize\n",
        "from sklearn.model_selection import train_test_split\n",
        "from sklearn.preprocessing import StandardScaler\n",
        "from sklearn.neighbors import KNeighborsClassifier\n",
        "from sklearn.svm import SVC\n",
        "from sklearn.linear_model import SGDClassifier\n",
        "from sklearn.metrics import classification_report, accuracy_score\n",
        "import cv2\n",
        "import matplotlib.pyplot as plt\n",
        "from collections import Counter"
      ],
      "metadata": {
        "id": "rlKhY1wPEOqq"
      },
      "execution_count": 2,
      "outputs": []
    },
    {
      "cell_type": "code",
      "source": [
        "dataset_path = '/content/drive/MyDrive/Classification_data'"
      ],
      "metadata": {
        "id": "wE3QgyRdEOoJ"
      },
      "execution_count": 3,
      "outputs": []
    },
    {
      "cell_type": "markdown",
      "source": [
        "## Loading dataset"
      ],
      "metadata": {
        "id": "N3pYVNFbGKJr"
      }
    },
    {
      "cell_type": "code",
      "source": [
        "def load_dataset(dataset_path, img_dim=(150, 150)):\n",
        "    X = []#Images\n",
        "    y = []#Labels\n",
        "    categories = os.listdir(dataset_path)\n",
        "\n",
        "    for category in categories:\n",
        "        for file in os.listdir(os.path.join(dataset_path, category)):\n",
        "            img_path = os.path.join(dataset_path, category, file)\n",
        "            img = cv2.imread(img_path)\n",
        "            img_resized = cv2.resize(img, img_dim)\n",
        "            X.append(img_resized)\n",
        "            y.append(category) # directory name is label\n",
        "\n",
        "    return np.array(X), np.array(y)\n",
        "\n",
        "X_train, y_train = load_dataset(os.path.join(dataset_path, 'train'))\n",
        "X_test, y_test = load_dataset(os.path.join(dataset_path, 'test'))"
      ],
      "metadata": {
        "id": "Ikb829J9EdcR"
      },
      "execution_count": 4,
      "outputs": []
    },
    {
      "cell_type": "code",
      "source": [
        "train_classes_counts = Counter(y_train)\n",
        "test_classes_counts = Counter(y_test)"
      ],
      "metadata": {
        "id": "p9hGoC0rT4Vs"
      },
      "execution_count": null,
      "outputs": []
    },
    {
      "cell_type": "code",
      "source": [
        "train_classes_counts"
      ],
      "metadata": {
        "id": "Qyy7hPDzFgQ0"
      },
      "execution_count": null,
      "outputs": []
    },
    {
      "cell_type": "code",
      "source": [
        "test_classes_counts"
      ],
      "metadata": {
        "id": "WR3ua3Y9FgvU"
      },
      "execution_count": null,
      "outputs": []
    },
    {
      "cell_type": "code",
      "source": [
        "plt.figure(figsize=(10, 5))\n",
        "plt.subplot(1, 2, 1)\n",
        "plt.bar(train_classes_counts.keys(), train_classes_counts.values())\n",
        "plt.title('Class Distribution in Train Set')\n",
        "plt.xticks(rotation=45)\n",
        "\n",
        "plt.subplot(1, 2, 2)\n",
        "plt.bar(test_classes_counts.keys(), test_classes_counts.values())\n",
        "plt.title('Class Distribution in Test Set')\n",
        "plt.xticks(rotation=45)\n",
        "\n",
        "plt.show()"
      ],
      "metadata": {
        "colab": {
          "base_uri": "https://localhost:8080/",
          "height": 510
        },
        "id": "ZBzZQq4FT6h8",
        "outputId": "6ccf2a7b-db7e-479c-ee75-cec7696be7fb"
      },
      "execution_count": null,
      "outputs": [
        {
          "output_type": "display_data",
          "data": {
            "text/plain": [
              "<Figure size 1000x500 with 2 Axes>"
            ],
            "image/png": "[encoded data removed]"
          },
          "metadata": {}
        }
      ]
    },
    {
      "cell_type": "code",
      "source": [
        "print(f\"Data type: {X_train.dtype}\")\n",
        "print(f\"Image shape: {X_train[0].shape}\")"
      ],
      "metadata": {
        "colab": {
          "base_uri": "https://localhost:8080/"
        },
        "id": "5z5XpqNYT6bk",
        "outputId": "d9f6863e-ba7d-4240-a05d-e0f3ad3d6c09"
      },
      "execution_count": null,
      "outputs": [
        {
          "output_type": "stream",
          "name": "stdout",
          "text": [
            "Data type: uint8\n",
            "Image shape: (150, 150, 3)\n"
          ]
        }
      ]
    },
    {
      "cell_type": "markdown",
      "source": [
        "## Extract Features Using HOG"
      ],
      "metadata": {
        "id": "2yukvBZWGHFP"
      }
    },
    {
      "cell_type": "code",
      "source": [
        "def extract_hog_features(images):\n",
        "    features = []\n",
        "    for image in images:\n",
        "        # Convert image to grayscale as HOG needs a single channel image\n",
        "        gray_image = cv2.cvtColor(image, cv2.COLOR_BGR2GRAY)\n",
        "        hog_feature = hog(gray_image, orientations=8, pixels_per_cell=(16, 16),\n",
        "                          cells_per_block=(1, 1), visualize=False)\n",
        "        features.append(hog_feature)\n",
        "    return np.array(features)"
      ],
      "metadata": {
        "id": "G5u9MObdFHFi"
      },
      "execution_count": null,
      "outputs": []
    },
    {
      "cell_type": "code",
      "source": [
        "X_train_hog = extract_hog_features(X_train)\n",
        "X_test_hog = extract_hog_features(X_test)"
      ],
      "metadata": {
        "id": "6aJu3s1CFHDM"
      },
      "execution_count": null,
      "outputs": []
    },
    {
      "cell_type": "markdown",
      "source": [
        "## Preprocess Features"
      ],
      "metadata": {
        "id": "xKsVl-ETGi3z"
      }
    },
    {
      "cell_type": "code",
      "source": [
        "scaler = StandardScaler()\n",
        "X_train_hog = scaler.fit_transform(X_train_hog)\n",
        "X_test_hog = scaler.transform(X_test_hog)"
      ],
      "metadata": {
        "id": "4gIQGIqcFHAv"
      },
      "execution_count": null,
      "outputs": []
    },
    {
      "cell_type": "code",
      "source": [
        "from sklearn.metrics import classification_report"
      ],
      "metadata": {
        "id": "H5X0H57AFG-P"
      },
      "execution_count": null,
      "outputs": []
    },
    {
      "cell_type": "markdown",
      "source": [
        "## classical features + knn/svm/linear classificator"
      ],
      "metadata": {
        "id": "JYzC0yf6kEa0"
      }
    },
    {
      "cell_type": "code",
      "source": [
        "models = {\n",
        "    \"KNN\": KNeighborsClassifier(n_neighbors=3),\n",
        "    \"SVM\": SVC(kernel='linear'),\n",
        "    \"Linear Classifier\": SGDClassifier(loss='hinge')\n",
        "}"
      ],
      "metadata": {
        "id": "PuWmtF5SFG7x"
      },
      "execution_count": null,
      "outputs": []
    },
    {
      "cell_type": "code",
      "source": [
        "for name, model in models.items():\n",
        "    model.fit(X_train_hog, y_train)\n",
        "    y_pred = model.predict(X_test_hog)\n",
        "    accuracy = accuracy_score(y_test, y_pred)\n",
        "    print(f\"{name} Accuracy: {accuracy}\")\n",
        "    print(classification_report(y_test, y_pred))"
      ],
      "metadata": {
        "colab": {
          "base_uri": "https://localhost:8080/"
        },
        "id": "VCqhvGRhFG5Z",
        "outputId": "1a990566-b7c5-40df-be19-2d7b5ad8f450"
      },
      "execution_count": null,
      "outputs": [
        {
          "output_type": "stream",
          "name": "stdout",
          "text": [
            "KNN Accuracy: 0.391\n",
            "              precision    recall  f1-score   support\n",
            "\n",
            "   buildings       0.62      0.17      0.27       437\n",
            "      forest       0.32      1.00      0.49       474\n",
            "     glacier       0.36      0.22      0.27       553\n",
            "    mountain       0.40      0.34      0.37       525\n",
            "         sea       0.49      0.58      0.53       510\n",
            "      street       0.76      0.06      0.12       501\n",
            "\n",
            "    accuracy                           0.39      3000\n",
            "   macro avg       0.49      0.39      0.34      3000\n",
            "weighted avg       0.49      0.39      0.34      3000\n",
            "\n",
            "SVM Accuracy: 0.5946666666666667\n",
            "              precision    recall  f1-score   support\n",
            "\n",
            "   buildings       0.58      0.65      0.61       437\n",
            "      forest       0.78      0.85      0.81       474\n",
            "     glacier       0.47      0.53      0.50       553\n",
            "    mountain       0.47      0.45      0.46       525\n",
            "         sea       0.59      0.47      0.52       510\n",
            "      street       0.72      0.66      0.69       501\n",
            "\n",
            "    accuracy                           0.59      3000\n",
            "   macro avg       0.60      0.60      0.60      3000\n",
            "weighted avg       0.60      0.59      0.59      3000\n",
            "\n",
            "Linear Classifier Accuracy: 0.555\n",
            "              precision    recall  f1-score   support\n",
            "\n",
            "   buildings       0.57      0.51      0.54       437\n",
            "      forest       0.86      0.86      0.86       474\n",
            "     glacier       0.43      0.46      0.44       553\n",
            "    mountain       0.39      0.41      0.40       525\n",
            "         sea       0.46      0.44      0.45       510\n",
            "      street       0.67      0.68      0.67       501\n",
            "\n",
            "    accuracy                           0.56      3000\n",
            "   macro avg       0.56      0.56      0.56      3000\n",
            "weighted avg       0.56      0.56      0.56      3000\n",
            "\n"
          ]
        }
      ]
    },
    {
      "cell_type": "markdown",
      "source": [
        "## CNN+MLP with your own architecture"
      ],
      "metadata": {
        "id": "UQBYsS2ikH27"
      }
    },
    {
      "cell_type": "code",
      "source": [
        "import tensorflow as tf\n",
        "from tensorflow.keras import layers, models, optimizers\n",
        "from tensorflow.keras.callbacks import EarlyStopping, ModelCheckpoint\n",
        "from tensorflow.keras.preprocessing.image import ImageDataGenerator\n",
        "from tensorflow.keras.regularizers import l2"
      ],
      "metadata": {
        "id": "uwJ-DC0PFG3F"
      },
      "execution_count": 5,
      "outputs": []
    },
    {
      "cell_type": "code",
      "source": [
        "train_datagen = ImageDataGenerator(\n",
        "    rescale=1./255,\n",
        "    rotation_range=20,\n",
        "    width_shift_range=0.1,\n",
        "    height_shift_range=0.1,\n",
        "    shear_range=0.1,\n",
        "    zoom_range=0.1,\n",
        "    horizontal_flip=True,\n",
        "    fill_mode='nearest',\n",
        "    validation_split=0.2\n",
        ")"
      ],
      "metadata": {
        "id": "DNksPJYdFGr_"
      },
      "execution_count": 11,
      "outputs": []
    },
    {
      "cell_type": "code",
      "source": [
        "test_datagen = ImageDataGenerator(rescale=1./255)"
      ],
      "metadata": {
        "id": "vwes19RAqwDF"
      },
      "execution_count": 12,
      "outputs": []
    },
    {
      "cell_type": "code",
      "source": [
        "train_generator = train_datagen.flow_from_directory(\n",
        "    '/content/drive/MyDrive/Classification_data/train',\n",
        "    target_size=(150, 150),\n",
        "    batch_size=32,\n",
        "    class_mode='categorical',\n",
        "    subset='training')\n",
        "\n",
        "validation_generator = train_datagen.flow_from_directory(\n",
        "    '/content/drive/MyDrive/Classification_data/train',\n",
        "    target_size=(150, 150),\n",
        "    batch_size=32,\n",
        "    class_mode='categorical',\n",
        "    subset='validation')\n",
        "\n",
        "test_generator = test_datagen.flow_from_directory(\n",
        "    '/content/drive/MyDrive/Classification_data/test',\n",
        "    target_size=(150, 150),\n",
        "    batch_size=32,\n",
        "    class_mode='categorical',\n",
        "    shuffle=False)"
      ],
      "metadata": {
        "colab": {
          "base_uri": "https://localhost:8080/"
        },
        "id": "udh0Bhi9EdZu",
        "outputId": "cb733df1-ed9b-4952-a831-c4f552429fa8"
      },
      "execution_count": 13,
      "outputs": [
        {
          "output_type": "stream",
          "name": "stdout",
          "text": [
            "Found 11230 images belonging to 6 classes.\n",
            "Found 2804 images belonging to 6 classes.\n",
            "Found 3000 images belonging to 6 classes.\n"
          ]
        }
      ]
    },
    {
      "cell_type": "code",
      "source": [
        "from tensorflow.keras.regularizers import l2"
      ],
      "metadata": {
        "id": "MwyULoLLrLbA"
      },
      "execution_count": null,
      "outputs": []
    },
    {
      "cell_type": "code",
      "source": [
        "model = models.Sequential([\n",
        "    layers.Conv2D(32, (3, 3), activation='relu', input_shape=(150, 150, 3)),\n",
        "    layers.MaxPooling2D((2, 2)),\n",
        "    layers.Conv2D(64, (3, 3), activation='relu'),\n",
        "    layers.MaxPooling2D((2, 2)),\n",
        "    layers.Conv2D(128, (3, 3), activation='relu'),\n",
        "    layers.MaxPooling2D((2, 2)),\n",
        "    layers.Flatten(),\n",
        "    layers.Dense(256, activation='relu'),\n",
        "    layers.Dropout(0.5),\n",
        "    layers.Dense(len(train_generator.class_indices), activation='softmax')\n",
        "])"
      ],
      "metadata": {
        "id": "R_pni2ttEdXM"
      },
      "execution_count": null,
      "outputs": []
    },
    {
      "cell_type": "code",
      "source": [
        "model.compile(optimizer='adam',\n",
        "              loss='categorical_crossentropy',\n",
        "              metrics=['accuracy'])"
      ],
      "metadata": {
        "id": "bMVWSIJAEdUj"
      },
      "execution_count": null,
      "outputs": []
    },
    {
      "cell_type": "code",
      "source": [
        "early_stopping = EarlyStopping(monitor='val_loss', patience=3, restore_best_weights=True)"
      ],
      "metadata": {
        "id": "7Nz5DGEarQYs"
      },
      "execution_count": null,
      "outputs": []
    },
    {
      "cell_type": "code",
      "source": [
        "history = model.fit(\n",
        "    train_generator,\n",
        "    steps_per_epoch=train_generator.samples // train_generator.batch_size,\n",
        "    epochs=10,\n",
        "    validation_data=validation_generator,\n",
        "    validation_steps=validation_generator.samples // validation_generator.batch_size,\n",
        "    callbacks=[early_stopping]\n",
        ")"
      ],
      "metadata": {
        "colab": {
          "base_uri": "https://localhost:8080/"
        },
        "id": "DL27d39bEdR6",
        "outputId": "178f330e-df45-4c3b-af7c-4c7392cef3de"
      },
      "execution_count": null,
      "outputs": [
        {
          "output_type": "stream",
          "name": "stdout",
          "text": [
            "Epoch 1/10\n",
            "350/350 [==============================] - 724s 2s/step - loss: 1.1553 - accuracy: 0.5462 - val_loss: 0.8948 - val_accuracy: 0.6573\n",
            "Epoch 2/10\n",
            "350/350 [==============================] - 730s 2s/step - loss: 0.8828 - accuracy: 0.6666 - val_loss: 0.7138 - val_accuracy: 0.7399\n",
            "Epoch 3/10\n",
            "350/350 [==============================] - 676s 2s/step - loss: 0.7866 - accuracy: 0.7086 - val_loss: 0.6909 - val_accuracy: 0.7550\n",
            "Epoch 4/10\n",
            "350/350 [==============================] - 673s 2s/step - loss: 0.7029 - accuracy: 0.7466 - val_loss: 0.6509 - val_accuracy: 0.7712\n",
            "Epoch 5/10\n",
            "350/350 [==============================] - 672s 2s/step - loss: 0.6533 - accuracy: 0.7668 - val_loss: 0.5561 - val_accuracy: 0.8075\n",
            "Epoch 6/10\n",
            "350/350 [==============================] - 668s 2s/step - loss: 0.6163 - accuracy: 0.7750 - val_loss: 0.5435 - val_accuracy: 0.8071\n",
            "Epoch 7/10\n",
            "350/350 [==============================] - 659s 2s/step - loss: 0.5952 - accuracy: 0.7909 - val_loss: 0.5548 - val_accuracy: 0.8053\n",
            "Epoch 8/10\n",
            "350/350 [==============================] - 659s 2s/step - loss: 0.5615 - accuracy: 0.8009 - val_loss: 0.5226 - val_accuracy: 0.8096\n",
            "Epoch 9/10\n",
            "350/350 [==============================] - 666s 2s/step - loss: 0.5465 - accuracy: 0.8057 - val_loss: 0.5101 - val_accuracy: 0.8193\n",
            "Epoch 10/10\n",
            "350/350 [==============================] - 681s 2s/step - loss: 0.5298 - accuracy: 0.8117 - val_loss: 0.4734 - val_accuracy: 0.8297\n"
          ]
        }
      ]
    },
    {
      "cell_type": "code",
      "source": [
        "test_generator.reset()\n",
        "predictions = model.predict(test_generator, steps=test_generator.samples // test_generator.batch_size + 1)\n",
        "predicted_classes = np.argmax(predictions, axis=1)\n",
        "true_classes = test_generator.classes\n",
        "class_labels = list(test_generator.class_indices.keys())"
      ],
      "metadata": {
        "colab": {
          "base_uri": "https://localhost:8080/"
        },
        "id": "R-9aX8CimsSt",
        "outputId": "89e60cea-c76d-4e80-d44f-f7753cbb14ee"
      },
      "execution_count": null,
      "outputs": [
        {
          "output_type": "stream",
          "name": "stdout",
          "text": [
            "94/94 [==============================] - 47s 494ms/step\n"
          ]
        }
      ]
    },
    {
      "cell_type": "code",
      "source": [
        "report = classification_report(true_classes, predicted_classes, target_names=class_labels)\n",
        "print(report)\n",
        "\n",
        "test_loss, test_acc = model.evaluate(test_generator, steps=test_generator.samples // test_generator.batch_size)\n",
        "print(f\"Test accuracy: {test_acc}\")"
      ],
      "metadata": {
        "colab": {
          "base_uri": "https://localhost:8080/"
        },
        "id": "dxZewO6xEdPV",
        "outputId": "c55d8fe8-ce67-49f5-f43b-42af756ba095"
      },
      "execution_count": null,
      "outputs": [
        {
          "output_type": "stream",
          "name": "stdout",
          "text": [
            "              precision    recall  f1-score   support\n",
            "\n",
            "   buildings       0.77      0.88      0.82       437\n",
            "      forest       0.95      0.97      0.96       474\n",
            "     glacier       0.80      0.79      0.80       553\n",
            "    mountain       0.85      0.73      0.78       525\n",
            "         sea       0.82      0.85      0.83       510\n",
            "      street       0.88      0.85      0.86       501\n",
            "\n",
            "    accuracy                           0.84      3000\n",
            "   macro avg       0.84      0.84      0.84      3000\n",
            "weighted avg       0.84      0.84      0.84      3000\n",
            "\n",
            "93/93 [==============================] - 44s 475ms/step - loss: 0.4393 - accuracy: 0.8417\n",
            "Test accuracy: 0.8417338728904724\n"
          ]
        }
      ]
    },
    {
      "cell_type": "markdown",
      "source": [
        "## Finetuned CNN"
      ],
      "metadata": {
        "id": "0kpQA6VfkOQM"
      }
    },
    {
      "cell_type": "code",
      "source": [
        "from tensorflow.keras.applications import VGG16\n",
        "from tensorflow.keras import layers, models, optimizers\n",
        "from tensorflow.keras.callbacks import EarlyStopping, ModelCheckpoint\n",
        "from sklearn.metrics import classification_report\n",
        "import numpy as np"
      ],
      "metadata": {
        "id": "jq8cxZ6BEc_6"
      },
      "execution_count": 30,
      "outputs": []
    },
    {
      "cell_type": "code",
      "source": [
        "base_model = VGG16(weights='imagenet', include_top=False, input_shape=(150, 150, 3))"
      ],
      "metadata": {
        "id": "hfLuooqyEc9b"
      },
      "execution_count": 31,
      "outputs": []
    },
    {
      "cell_type": "code",
      "source": [
        "for layer in base_model.layers:\n",
        "    layer.trainable = False"
      ],
      "metadata": {
        "id": "tHmU5l0JEc7H"
      },
      "execution_count": 32,
      "outputs": []
    },
    {
      "cell_type": "code",
      "source": [
        "model = models.Sequential([\n",
        "    base_model,\n",
        "    layers.Flatten(),\n",
        "    layers.Dense(256, activation='relu'),\n",
        "    layers.Dropout(0.5),\n",
        "    layers.Dense(len(train_generator.class_indices), activation='softmax')\n",
        "])"
      ],
      "metadata": {
        "id": "xVSSf7eQEc4w"
      },
      "execution_count": 33,
      "outputs": []
    },
    {
      "cell_type": "code",
      "source": [
        "model.compile(optimizer=optimizers.Adam(learning_rate=1e-4), loss='categorical_crossentropy', metrics=['accuracy'])"
      ],
      "metadata": {
        "id": "AVz0K9iUEc2Q"
      },
      "execution_count": 34,
      "outputs": []
    },
    {
      "cell_type": "code",
      "source": [
        "model.summary()"
      ],
      "metadata": {
        "id": "rGR9uEjoEczt",
        "colab": {
          "base_uri": "https://localhost:8080/"
        },
        "outputId": "076fe514-e7eb-4b62-bccc-d6ffd219fff9"
      },
      "execution_count": 35,
      "outputs": [
        {
          "output_type": "stream",
          "name": "stdout",
          "text": [
            "Model: \"sequential_1\"\n",
            "_________________________________________________________________\n",
            " Layer (type)                Output Shape              Param #   \n",
            "=================================================================\n",
            " vgg16 (Functional)          (None, 4, 4, 512)         14714688  \n",
            "                                                                 \n",
            " flatten_2 (Flatten)         (None, 8192)              0         \n",
            "                                                                 \n",
            " dense_3 (Dense)             (None, 256)               2097408   \n",
            "                                                                 \n",
            " dropout_2 (Dropout)         (None, 256)               0         \n",
            "                                                                 \n",
            " dense_4 (Dense)             (None, 6)                 1542      \n",
            "                                                                 \n",
            "=================================================================\n",
            "Total params: 16813638 (64.14 MB)\n",
            "Trainable params: 2098950 (8.01 MB)\n",
            "Non-trainable params: 14714688 (56.13 MB)\n",
            "_________________________________________________________________\n"
          ]
        }
      ]
    },
    {
      "cell_type": "code",
      "source": [
        "early_stopping = EarlyStopping(monitor='val_loss', patience=5, restore_best_weights=True)\n",
        "checkpoint = ModelCheckpoint(filepath='/content/drive/MyDrive/best_model.h5', save_best_only=True, save_weights_only=True)"
      ],
      "metadata": {
        "id": "lyALLDttEcxV"
      },
      "execution_count": 36,
      "outputs": []
    },
    {
      "cell_type": "code",
      "source": [
        "history = model.fit(\n",
        "    train_generator,\n",
        "    steps_per_epoch=train_generator.samples // train_generator.batch_size,\n",
        "    epochs=20,\n",
        "    validation_data=validation_generator,\n",
        "    validation_steps=validation_generator.samples // validation_generator.batch_size,\n",
        "    callbacks=[early_stopping, checkpoint]\n",
        ")"
      ],
      "metadata": {
        "id": "Lvbe-UrREcvC",
        "colab": {
          "base_uri": "https://localhost:8080/"
        },
        "outputId": "cf96cd5e-616f-4fbd-a483-d6590e44dbcc"
      },
      "execution_count": 37,
      "outputs": [
        {
          "output_type": "stream",
          "name": "stdout",
          "text": [
            "Epoch 1/20\n",
            "350/350 [==============================] - 190s 540ms/step - loss: 0.7228 - accuracy: 0.7281 - val_loss: 0.4674 - val_accuracy: 0.8301\n",
            "Epoch 2/20\n",
            "350/350 [==============================] - 161s 460ms/step - loss: 0.5003 - accuracy: 0.8170 - val_loss: 0.4280 - val_accuracy: 0.8409\n",
            "Epoch 3/20\n",
            "350/350 [==============================] - 170s 487ms/step - loss: 0.4462 - accuracy: 0.8375 - val_loss: 0.4219 - val_accuracy: 0.8416\n",
            "Epoch 4/20\n",
            "350/350 [==============================] - 168s 481ms/step - loss: 0.4340 - accuracy: 0.8428 - val_loss: 0.3968 - val_accuracy: 0.8499\n",
            "Epoch 5/20\n",
            "350/350 [==============================] - 169s 483ms/step - loss: 0.3985 - accuracy: 0.8536 - val_loss: 0.3802 - val_accuracy: 0.8588\n",
            "Epoch 6/20\n",
            "350/350 [==============================] - 157s 449ms/step - loss: 0.3863 - accuracy: 0.8612 - val_loss: 0.3610 - val_accuracy: 0.8639\n",
            "Epoch 7/20\n",
            "350/350 [==============================] - 166s 473ms/step - loss: 0.3732 - accuracy: 0.8607 - val_loss: 0.3875 - val_accuracy: 0.8509\n",
            "Epoch 8/20\n",
            "350/350 [==============================] - 165s 471ms/step - loss: 0.3680 - accuracy: 0.8653 - val_loss: 0.3767 - val_accuracy: 0.8592\n",
            "Epoch 9/20\n",
            "350/350 [==============================] - 167s 478ms/step - loss: 0.3577 - accuracy: 0.8685 - val_loss: 0.3637 - val_accuracy: 0.8603\n",
            "Epoch 10/20\n",
            "350/350 [==============================] - 155s 443ms/step - loss: 0.3483 - accuracy: 0.8739 - val_loss: 0.3605 - val_accuracy: 0.8685\n",
            "Epoch 11/20\n",
            "350/350 [==============================] - 156s 446ms/step - loss: 0.3340 - accuracy: 0.8756 - val_loss: 0.3565 - val_accuracy: 0.8649\n",
            "Epoch 12/20\n",
            "350/350 [==============================] - 157s 450ms/step - loss: 0.3255 - accuracy: 0.8811 - val_loss: 0.3514 - val_accuracy: 0.8725\n",
            "Epoch 13/20\n",
            "350/350 [==============================] - 156s 444ms/step - loss: 0.3284 - accuracy: 0.8795 - val_loss: 0.3451 - val_accuracy: 0.8739\n",
            "Epoch 14/20\n",
            "350/350 [==============================] - 156s 446ms/step - loss: 0.3210 - accuracy: 0.8831 - val_loss: 0.3490 - val_accuracy: 0.8757\n",
            "Epoch 15/20\n",
            "350/350 [==============================] - 152s 434ms/step - loss: 0.3084 - accuracy: 0.8871 - val_loss: 0.3421 - val_accuracy: 0.8764\n",
            "Epoch 16/20\n",
            "350/350 [==============================] - 153s 438ms/step - loss: 0.3160 - accuracy: 0.8817 - val_loss: 0.3707 - val_accuracy: 0.8538\n",
            "Epoch 17/20\n",
            "350/350 [==============================] - 156s 445ms/step - loss: 0.3074 - accuracy: 0.8864 - val_loss: 0.3440 - val_accuracy: 0.8721\n",
            "Epoch 18/20\n",
            "350/350 [==============================] - 158s 451ms/step - loss: 0.3005 - accuracy: 0.8870 - val_loss: 0.3457 - val_accuracy: 0.8750\n",
            "Epoch 19/20\n",
            "350/350 [==============================] - 158s 451ms/step - loss: 0.2983 - accuracy: 0.8887 - val_loss: 0.3487 - val_accuracy: 0.8682\n",
            "Epoch 20/20\n",
            "350/350 [==============================] - 169s 484ms/step - loss: 0.2978 - accuracy: 0.8917 - val_loss: 0.3326 - val_accuracy: 0.8811\n"
          ]
        }
      ]
    },
    {
      "cell_type": "code",
      "source": [
        "test_generator.reset()\n",
        "predictions = model.predict(test_generator, steps=test_generator.samples // test_generator.batch_size + 1)\n",
        "predicted_classes = np.argmax(predictions, axis=1)\n",
        "true_classes = test_generator.classes\n",
        "class_labels = list(test_generator.class_indices.keys())\n",
        "report = classification_report(true_classes, predicted_classes, target_names=class_labels)\n",
        "print(\"Classification Report Before Fine-Tuning:\")\n",
        "print(report)"
      ],
      "metadata": {
        "id": "L1_FgU5KEcsr",
        "colab": {
          "base_uri": "https://localhost:8080/"
        },
        "outputId": "de289028-0b9e-4984-8609-00f69ceee247"
      },
      "execution_count": 38,
      "outputs": [
        {
          "output_type": "stream",
          "name": "stdout",
          "text": [
            "94/94 [==============================] - 15s 152ms/step\n",
            "Classification Report Before Fine-Tuning:\n",
            "              precision    recall  f1-score   support\n",
            "\n",
            "   buildings       0.94      0.87      0.90       437\n",
            "      forest       0.97      0.98      0.98       474\n",
            "     glacier       0.83      0.83      0.83       553\n",
            "    mountain       0.81      0.83      0.82       525\n",
            "         sea       0.91      0.87      0.89       510\n",
            "      street       0.89      0.94      0.91       501\n",
            "\n",
            "    accuracy                           0.89      3000\n",
            "   macro avg       0.89      0.89      0.89      3000\n",
            "weighted avg       0.89      0.89      0.89      3000\n",
            "\n"
          ]
        }
      ]
    },
    {
      "cell_type": "markdown",
      "source": [
        "Below I tried to unfreeze last 4 layers of base model and train but I've got accuracy and loss are nearly constant and very low."
      ],
      "metadata": {
        "id": "pFuaqSHZlEh1"
      }
    },
    {
      "cell_type": "code",
      "source": [
        "for layer in base_model.layers[-4:]:\n",
        "    layer.trainable = True"
      ],
      "metadata": {
        "id": "vRNzp-q4Ecqc"
      },
      "execution_count": 39,
      "outputs": []
    },
    {
      "cell_type": "code",
      "source": [
        "optimizer_ft = optimizers.Adam(lr=1e-5)\n",
        "model.compile(optimizer=optimizer_ft, loss='categorical_crossentropy', metrics=['accuracy'])"
      ],
      "metadata": {
        "id": "ibn_KJnGEcoI"
      },
      "execution_count": null,
      "outputs": []
    },
    {
      "cell_type": "code",
      "source": [
        "early_stopping_ft = EarlyStopping(monitor='val_loss', patience=5, restore_best_weights=True)\n",
        "checkpoint_ft = ModelCheckpoint(filepath='/content/drive/MyDrive/best_model_finetuned.h5', save_best_only=True, save_weights_only=True)"
      ],
      "metadata": {
        "id": "NOIObtcNEOjP"
      },
      "execution_count": 41,
      "outputs": []
    },
    {
      "cell_type": "code",
      "source": [
        "history_finetune = model.fit(\n",
        "    train_generator,\n",
        "    steps_per_epoch=train_generator.samples // train_generator.batch_size,\n",
        "    epochs=10,\n",
        "    validation_data=validation_generator,\n",
        "    validation_steps=validation_generator.samples // validation_generator.batch_size,\n",
        "    callbacks=[early_stopping_ft, checkpoint_ft]\n",
        ")"
      ],
      "metadata": {
        "colab": {
          "base_uri": "https://localhost:8080/"
        },
        "id": "-NHFYaAuM4Mg",
        "outputId": "c4fd9bf1-d1b8-462c-d0b2-a4d0c984f41c"
      },
      "execution_count": 42,
      "outputs": [
        {
          "output_type": "stream",
          "name": "stdout",
          "text": [
            "Epoch 1/10\n",
            "350/350 [==============================] - 157s 444ms/step - loss: 1.9965 - accuracy: 0.1796 - val_loss: 1.7909 - val_accuracy: 0.1792\n",
            "Epoch 2/10\n",
            "350/350 [==============================] - 157s 448ms/step - loss: 1.7910 - accuracy: 0.1790 - val_loss: 1.7907 - val_accuracy: 0.1796\n",
            "Epoch 3/10\n",
            "350/350 [==============================] - 167s 476ms/step - loss: 1.7909 - accuracy: 0.1791 - val_loss: 1.7908 - val_accuracy: 0.1792\n",
            "Epoch 4/10\n",
            "350/350 [==============================] - 158s 451ms/step - loss: 1.7910 - accuracy: 0.1790 - val_loss: 1.7909 - val_accuracy: 0.1778\n",
            "Epoch 5/10\n",
            "350/350 [==============================] - 169s 482ms/step - loss: 1.7910 - accuracy: 0.1786 - val_loss: 1.7907 - val_accuracy: 0.1800\n",
            "Epoch 6/10\n",
            "350/350 [==============================] - 157s 447ms/step - loss: 1.7910 - accuracy: 0.1788 - val_loss: 1.7907 - val_accuracy: 0.1792\n",
            "Epoch 7/10\n",
            "350/350 [==============================] - 168s 481ms/step - loss: 1.7909 - accuracy: 0.1791 - val_loss: 1.7908 - val_accuracy: 0.1792\n"
          ]
        }
      ]
    },
    {
      "cell_type": "code",
      "source": [
        "test_generator.reset()\n",
        "predictions_finetuned = model.predict(test_generator, steps=test_generator.samples // test_generator.batch_size + 1)\n",
        "predicted_classes_finetuned = np.argmax(predictions_finetuned, axis=1)\n",
        "report_finetuned = classification_report(true_classes, predicted_classes_finetuned, target_names=class_labels)\n",
        "print(\"Classification Report After Fine-Tuning:\")\n",
        "print(report_finetuned)"
      ],
      "metadata": {
        "id": "AUERCLyOEOg1",
        "colab": {
          "base_uri": "https://localhost:8080/"
        },
        "outputId": "eb657a2e-8741-43e7-fdf6-f35136d65fcf"
      },
      "execution_count": 43,
      "outputs": [
        {
          "output_type": "stream",
          "name": "stdout",
          "text": [
            "94/94 [==============================] - 13s 138ms/step\n",
            "Classification Report After Fine-Tuning:\n",
            "              precision    recall  f1-score   support\n",
            "\n",
            "   buildings       0.00      0.00      0.00       437\n",
            "      forest       0.00      0.00      0.00       474\n",
            "     glacier       0.00      0.00      0.00       553\n",
            "    mountain       0.17      1.00      0.30       525\n",
            "         sea       0.00      0.00      0.00       510\n",
            "      street       0.00      0.00      0.00       501\n",
            "\n",
            "    accuracy                           0.17      3000\n",
            "   macro avg       0.03      0.17      0.05      3000\n",
            "weighted avg       0.03      0.17      0.05      3000\n",
            "\n"
          ]
        },
        {
          "output_type": "stream",
          "name": "stderr",
          "text": [
            "/usr/local/lib/python3.10/dist-packages/sklearn/metrics/_classification.py:1344: UndefinedMetricWarning: Precision and F-score are ill-defined and being set to 0.0 in labels with no predicted samples. Use `zero_division` parameter to control this behavior.\n",
            "  _warn_prf(average, modifier, msg_start, len(result))\n",
            "/usr/local/lib/python3.10/dist-packages/sklearn/metrics/_classification.py:1344: UndefinedMetricWarning: Precision and F-score are ill-defined and being set to 0.0 in labels with no predicted samples. Use `zero_division` parameter to control this behavior.\n",
            "  _warn_prf(average, modifier, msg_start, len(result))\n",
            "/usr/local/lib/python3.10/dist-packages/sklearn/metrics/_classification.py:1344: UndefinedMetricWarning: Precision and F-score are ill-defined and being set to 0.0 in labels with no predicted samples. Use `zero_division` parameter to control this behavior.\n",
            "  _warn_prf(average, modifier, msg_start, len(result))\n"
          ]
        }
      ]
    },
    {
      "cell_type": "code",
      "source": [],
      "metadata": {
        "id": "6n7i-16pEOZM"
      },
      "execution_count": null,
      "outputs": []
    },
    {
      "cell_type": "code",
      "source": [],
      "metadata": {
        "id": "r7bItyQhEOWv"
      },
      "execution_count": null,
      "outputs": []
    },
    {
      "cell_type": "code",
      "source": [],
      "metadata": {
        "id": "MuB25JJ7EOUH"
      },
      "execution_count": null,
      "outputs": []
    },
    {
      "cell_type": "code",
      "source": [],
      "metadata": {
        "id": "X5KGmDLdEORe"
      },
      "execution_count": null,
      "outputs": []
    },
    {
      "cell_type": "code",
      "source": [],
      "metadata": {
        "id": "6BYbecZXEOPK"
      },
      "execution_count": null,
      "outputs": []
    },
    {
      "cell_type": "code",
      "source": [],
      "metadata": {
        "id": "woOCWpG9EOMa"
      },
      "execution_count": null,
      "outputs": []
    },
    {
      "cell_type": "code",
      "source": [],
      "metadata": {
        "id": "QUClU6TYEOJz"
      },
      "execution_count": null,
      "outputs": []
    },
    {
      "cell_type": "code",
      "source": [],
      "metadata": {
        "id": "OLKhQlejEOHb"
      },
      "execution_count": null,
      "outputs": []
    },
    {
      "cell_type": "code",
      "source": [],
      "metadata": {
        "id": "IlvCceXMEOFL"
      },
      "execution_count": null,
      "outputs": []
    },
    {
      "cell_type": "code",
      "source": [],
      "metadata": {
        "id": "gSkGaRzFEOC6"
      },
      "execution_count": null,
      "outputs": []
    },
    {
      "cell_type": "code",
      "source": [],
      "metadata": {
        "id": "aD2nn6RgD9dO"
      },
      "execution_count": null,
      "outputs": []
    },
    {
      "cell_type": "code",
      "source": [],
      "metadata": {
        "id": "tgBKvw-bD9ay"
      },
      "execution_count": null,
      "outputs": []
    },
    {
      "cell_type": "code",
      "source": [],
      "metadata": {
        "id": "MGflUHaUD9YP"
      },
      "execution_count": null,
      "outputs": []
    },
    {
      "cell_type": "code",
      "source": [],
      "metadata": {
        "id": "LvhA6MxdD9V4"
      },
      "execution_count": null,
      "outputs": []
    },
    {
      "cell_type": "code",
      "source": [],
      "metadata": {
        "id": "HC_1Y-qhD9TX"
      },
      "execution_count": null,
      "outputs": []
    },
    {
      "cell_type": "code",
      "source": [],
      "metadata": {
        "id": "HSX9lt0CD9RF"
      },
      "execution_count": null,
      "outputs": []
    }
  ]
}